{
 "cells": [
  {
   "cell_type": "code",
   "execution_count": null,
   "metadata": {},
   "outputs": [],
   "source": [
    "import gym\n",
    "from agent import Rainbow\n",
    "import matplotlib.pyplot as plt\n",
    "env = gym.make(\"LunarLander-v2\")"
   ]
  },
  {
   "cell_type": "code",
   "execution_count": null,
   "metadata": {},
   "outputs": [],
   "source": [
    "rainbow = Rainbow(\n",
    "    #Distributional\n",
    "    distributional= True,\n",
    "    v_min= -150,\n",
    "    v_max = 170,\n",
    "    nb_atoms= 51, \n",
    "    # Prioritized Replay\n",
    "    prioritized_replay =True,\n",
    "    prioritized_replay_alpha= 0.5,\n",
    "    prioritized_replay_beta_function = lambda episode, step : min(1, 0.5 + 0.5*step/100_000),\n",
    "    # General\n",
    "    multi_steps = 3,\n",
    "    nb_states = 8,\n",
    "    nb_actions = 4,\n",
    "    gamma = 0.99,\n",
    "    replay_capacity = 1E6,\n",
    "    tau = 3000,\n",
    "    \n",
    "    # Model\n",
    "    window= 5,\n",
    "    units = [32,32],\n",
    "    dropout= 0,\n",
    "    adversarial= False,\n",
    "    noisy= False,\n",
    "    learning_rate = 1E-3,\n",
    "\n",
    "    \n",
    "    batch_size= 64,\n",
    "    train_every = 4,\n",
    "    epsilon_function = lambda episode, step : max(0.01, (1 - 5E-5)** step), #lambda episode, step : max(0.05, 0.9999 ** step), # Ignore if noisy is True\n",
    "    name = \"\",\n",
    ")\n"
   ]
  },
  {
   "attachments": {},
   "cell_type": "markdown",
   "metadata": {},
   "source": [
    "# Training"
   ]
  },
  {
   "cell_type": "code",
   "execution_count": null,
   "metadata": {},
   "outputs": [],
   "source": [
    "for _ in range(400):\n",
    "    obs, info = env.reset()\n",
    "    done, truncated = False, False\n",
    "    while not done and not truncated:\n",
    "        action = rainbow.e_greedy_pick_action_or_random(obs)\n",
    "        next_obs, reward, done, truncated, info = env.step(action)\n",
    "        rainbow.store_replay(obs, action, reward, next_obs, done, truncated)\n",
    "        rainbow.train()\n",
    "        obs = next_obs"
   ]
  },
  {
   "attachments": {},
   "cell_type": "markdown",
   "metadata": {},
   "source": [
    "# Check Atoms Distribution"
   ]
  },
  {
   "cell_type": "code",
   "execution_count": null,
   "metadata": {},
   "outputs": [],
   "source": [
    "batch_indexes, states, actions, rewards, states_prime, dones, importance_weights = rainbow.replay_memory.sample(\n",
    "    1024,\n",
    "    rainbow.prioritized_replay_beta_function(rainbow.episode_count, rainbow.steps)\n",
    ")\n",
    "results = rainbow.model(states)\n",
    "\n",
    "action_colors=[\"blue\", \"orange\",\"purple\",\"red\"]\n",
    "fig, axes = plt.subplots(nrows = 2, ncols = 2, figsize=(16,9))\n",
    "for action in range(4):\n",
    "    for i in range(256):\n",
    "        axes[action%2, action//2%2].plot(rainbow.zs, results[i, action, :], color = action_colors[action], alpha = 0.2)"
   ]
  }
 ],
 "metadata": {
  "kernelspec": {
   "display_name": "base",
   "language": "python",
   "name": "python3"
  },
  "language_info": {
   "codemirror_mode": {
    "name": "ipython",
    "version": 3
   },
   "file_extension": ".py",
   "mimetype": "text/x-python",
   "name": "python",
   "nbconvert_exporter": "python",
   "pygments_lexer": "ipython3",
   "version": "3.9.15"
  },
  "orig_nbformat": 4,
  "vscode": {
   "interpreter": {
    "hash": "dbba53b6cb10acaf2f1df960d743193e7f0a62eeb980546e46655a1769dc5a26"
   }
  }
 },
 "nbformat": 4,
 "nbformat_minor": 2
}
