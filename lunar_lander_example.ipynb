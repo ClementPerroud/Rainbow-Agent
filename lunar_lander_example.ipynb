{
 "cells": [
  {
   "cell_type": "code",
   "execution_count": 1,
   "metadata": {},
   "outputs": [],
   "source": [
    "import gym\n",
    "from agent import Rainbow\n",
    "import matplotlib.pyplot as plt\n",
    "env = gym.make(\"LunarLander-v2\")"
   ]
  },
  {
   "cell_type": "code",
   "execution_count": 4,
   "metadata": {},
   "outputs": [],
   "source": [
    "rainbow = Rainbow(\n",
    "    #Distributional\n",
    "    distributional= True,\n",
    "    v_min= -150,\n",
    "    v_max = 170,\n",
    "    nb_atoms= 51, \n",
    "    # Prioritized Replay\n",
    "    prioritized_replay =True,\n",
    "    prioritized_replay_alpha= 0.5,\n",
    "    prioritized_replay_beta_function = lambda episode, step : min(1, 0.5 + 0.5*step/100_000),\n",
    "    # General\n",
    "    multi_steps = 3,\n",
    "    nb_states = 8,\n",
    "    nb_actions = 4,\n",
    "    gamma = 0.99,\n",
    "    replay_capacity = 1E6,\n",
    "    tau = 3000,\n",
    "    \n",
    "    # Model\n",
    "    window= 5,\n",
    "    units = [32,32],\n",
    "    dropout= 0,\n",
    "    adversarial= False,\n",
    "    noisy= False,\n",
    "    learning_rate = 1E-3,\n",
    "\n",
    "    \n",
    "    batch_size= 64,\n",
    "    train_every = 4,\n",
    "    epsilon_function = lambda episode, step : max(0.01, (1 - 5E-5)** step), #lambda episode, step : max(0.05, 0.9999 ** step), # Ignore if noisy is True\n",
    "    name = \"\",\n",
    ")\n"
   ]
  },
  {
   "attachments": {},
   "cell_type": "markdown",
   "metadata": {},
   "source": [
    "# Training"
   ]
  },
  {
   "cell_type": "code",
   "execution_count": 5,
   "metadata": {},
   "outputs": [
    {
     "ename": "ValueError",
     "evalue": "in user code:\n\n    File \"c:\\Users\\cleme\\Desktop\\Rainbow-RL-Agent\\agent.py\", line 246, in _distributional_train_step  *\n        Tz = rewards[..., tf.newaxis] * tf.ones(shape=(self.batch_size, self.nb_atoms)) + tf.cast(dones[..., tf.newaxis], dtype = tf.float32) * (self.gamma ** self.multi_steps) * self.zs * tf.ones(shape=(self.batch_size,self.nb_atoms))\n\n    ValueError: Dimensions must be equal, but are 128 and 64 for '{{node mul}} = Mul[T=DT_FLOAT](strided_slice, ones)' with input shapes: [128,1], [64,51].\n",
     "output_type": "error",
     "traceback": [
      "\u001b[1;31m---------------------------------------------------------------------------\u001b[0m",
      "\u001b[1;31mValueError\u001b[0m                                Traceback (most recent call last)",
      "Cell \u001b[1;32mIn[5], line 8\u001b[0m\n\u001b[0;32m      6\u001b[0m next_obs, reward, done, truncated, info \u001b[39m=\u001b[39m env\u001b[39m.\u001b[39mstep(action)\n\u001b[0;32m      7\u001b[0m rainbow\u001b[39m.\u001b[39mstore_replay(obs, action, reward, next_obs, done, truncated)\n\u001b[1;32m----> 8\u001b[0m rainbow\u001b[39m.\u001b[39;49mtrain()\n\u001b[0;32m      9\u001b[0m obs \u001b[39m=\u001b[39m next_obs\n",
      "File \u001b[1;32mc:\\Users\\cleme\\Desktop\\Rainbow-RL-Agent\\agent.py:162\u001b[0m, in \u001b[0;36mRainbow.train\u001b[1;34m(self)\u001b[0m\n\u001b[0;32m    156\u001b[0m \u001b[39mif\u001b[39;00m \u001b[39mself\u001b[39m\u001b[39m.\u001b[39msteps \u001b[39m%\u001b[39m \u001b[39mself\u001b[39m\u001b[39m.\u001b[39mtrain_every \u001b[39m==\u001b[39m \u001b[39m0\u001b[39m:\n\u001b[0;32m    157\u001b[0m     batch_indexes, states, actions, rewards, states_prime, dones, importance_weights \u001b[39m=\u001b[39m \u001b[39mself\u001b[39m\u001b[39m.\u001b[39mreplay_memory\u001b[39m.\u001b[39msample(\n\u001b[0;32m    158\u001b[0m         \u001b[39mself\u001b[39m\u001b[39m.\u001b[39mbatch_size,\n\u001b[0;32m    159\u001b[0m         \u001b[39mself\u001b[39m\u001b[39m.\u001b[39mprioritized_replay_beta_function(\u001b[39mself\u001b[39m\u001b[39m.\u001b[39mepisode_count, \u001b[39mself\u001b[39m\u001b[39m.\u001b[39msteps)\n\u001b[0;32m    160\u001b[0m     )\n\u001b[1;32m--> 162\u001b[0m     loss_value, td_errors \u001b[39m=\u001b[39m \u001b[39mself\u001b[39;49m\u001b[39m.\u001b[39;49mtrain_step(states, actions, rewards, states_prime, dones, importance_weights)\n\u001b[0;32m    163\u001b[0m     \u001b[39mself\u001b[39m\u001b[39m.\u001b[39mreplay_memory\u001b[39m.\u001b[39mupdate_priority(batch_indexes, td_errors)\n\u001b[0;32m    165\u001b[0m     \u001b[39mself\u001b[39m\u001b[39m.\u001b[39mepisode_losses\u001b[39m.\u001b[39mappend(\u001b[39mfloat\u001b[39m(loss_value))\n",
      "File \u001b[1;32m~\\AppData\\Roaming\\Python\\Python39\\site-packages\\tensorflow\\python\\util\\traceback_utils.py:153\u001b[0m, in \u001b[0;36mfilter_traceback.<locals>.error_handler\u001b[1;34m(*args, **kwargs)\u001b[0m\n\u001b[0;32m    151\u001b[0m \u001b[39mexcept\u001b[39;00m \u001b[39mException\u001b[39;00m \u001b[39mas\u001b[39;00m e:\n\u001b[0;32m    152\u001b[0m   filtered_tb \u001b[39m=\u001b[39m _process_traceback_frames(e\u001b[39m.\u001b[39m__traceback__)\n\u001b[1;32m--> 153\u001b[0m   \u001b[39mraise\u001b[39;00m e\u001b[39m.\u001b[39mwith_traceback(filtered_tb) \u001b[39mfrom\u001b[39;00m \u001b[39mNone\u001b[39m\n\u001b[0;32m    154\u001b[0m \u001b[39mfinally\u001b[39;00m:\n\u001b[0;32m    155\u001b[0m   \u001b[39mdel\u001b[39;00m filtered_tb\n",
      "File \u001b[1;32m~\\AppData\\Local\\Temp\\__autograph_generated_file859d2yzh.py:11\u001b[0m, in \u001b[0;36mouter_factory.<locals>.inner_factory.<locals>.tf___distributional_train_step\u001b[1;34m(self, states, actions, rewards, states_prime, dones, weights)\u001b[0m\n\u001b[0;32m      9\u001b[0m retval_ \u001b[39m=\u001b[39m ag__\u001b[39m.\u001b[39mUndefinedReturnValue()\n\u001b[0;32m     10\u001b[0m best_a__sp \u001b[39m=\u001b[39m ag__\u001b[39m.\u001b[39mconverted_call(ag__\u001b[39m.\u001b[39mld(tf)\u001b[39m.\u001b[39margmax, (ag__\u001b[39m.\u001b[39mconverted_call(ag__\u001b[39m.\u001b[39mld(\u001b[39mself\u001b[39m)\u001b[39m.\u001b[39m_distributional_predict_q_a, (ag__\u001b[39m.\u001b[39mld(\u001b[39mself\u001b[39m)\u001b[39m.\u001b[39mmodel, ag__\u001b[39m.\u001b[39mld(states_prime)), \u001b[39mdict\u001b[39m(training\u001b[39m=\u001b[39m\u001b[39mFalse\u001b[39;00m), fscope),), \u001b[39mdict\u001b[39m(axis\u001b[39m=\u001b[39m\u001b[39m1\u001b[39m), fscope)\n\u001b[1;32m---> 11\u001b[0m Tz \u001b[39m=\u001b[39m ag__\u001b[39m.\u001b[39mld(rewards)[\u001b[39m.\u001b[39m\u001b[39m.\u001b[39m\u001b[39m.\u001b[39m, ag__\u001b[39m.\u001b[39mld(tf)\u001b[39m.\u001b[39mnewaxis] \u001b[39m*\u001b[39m ag__\u001b[39m.\u001b[39mconverted_call(ag__\u001b[39m.\u001b[39mld(tf)\u001b[39m.\u001b[39mones, (), \u001b[39mdict\u001b[39m(shape\u001b[39m=\u001b[39m(ag__\u001b[39m.\u001b[39mld(\u001b[39mself\u001b[39m)\u001b[39m.\u001b[39mbatch_size, ag__\u001b[39m.\u001b[39mld(\u001b[39mself\u001b[39m)\u001b[39m.\u001b[39mnb_atoms)), fscope) \u001b[39m+\u001b[39m ag__\u001b[39m.\u001b[39mconverted_call(ag__\u001b[39m.\u001b[39mld(tf)\u001b[39m.\u001b[39mcast, (ag__\u001b[39m.\u001b[39mld(dones)[\u001b[39m.\u001b[39m\u001b[39m.\u001b[39m\u001b[39m.\u001b[39m, ag__\u001b[39m.\u001b[39mld(tf)\u001b[39m.\u001b[39mnewaxis],), \u001b[39mdict\u001b[39m(dtype\u001b[39m=\u001b[39mag__\u001b[39m.\u001b[39mld(tf)\u001b[39m.\u001b[39mfloat32), fscope) \u001b[39m*\u001b[39m ag__\u001b[39m.\u001b[39mld(\u001b[39mself\u001b[39m)\u001b[39m.\u001b[39mgamma \u001b[39m*\u001b[39m\u001b[39m*\u001b[39m ag__\u001b[39m.\u001b[39mld(\u001b[39mself\u001b[39m)\u001b[39m.\u001b[39mmulti_steps \u001b[39m*\u001b[39m ag__\u001b[39m.\u001b[39mld(\u001b[39mself\u001b[39m)\u001b[39m.\u001b[39mzs \u001b[39m*\u001b[39m ag__\u001b[39m.\u001b[39mconverted_call(ag__\u001b[39m.\u001b[39mld(tf)\u001b[39m.\u001b[39mones, (), \u001b[39mdict\u001b[39m(shape\u001b[39m=\u001b[39m(ag__\u001b[39m.\u001b[39mld(\u001b[39mself\u001b[39m)\u001b[39m.\u001b[39mbatch_size, ag__\u001b[39m.\u001b[39mld(\u001b[39mself\u001b[39m)\u001b[39m.\u001b[39mnb_atoms)), fscope)\n\u001b[0;32m     12\u001b[0m Tz \u001b[39m=\u001b[39m ag__\u001b[39m.\u001b[39mconverted_call(ag__\u001b[39m.\u001b[39mld(tf)\u001b[39m.\u001b[39mclip_by_value, (ag__\u001b[39m.\u001b[39mld(Tz), ag__\u001b[39m.\u001b[39mld(\u001b[39mself\u001b[39m)\u001b[39m.\u001b[39mv_min, ag__\u001b[39m.\u001b[39mld(\u001b[39mself\u001b[39m)\u001b[39m.\u001b[39mv_max), \u001b[39mNone\u001b[39;00m, fscope)\n\u001b[0;32m     13\u001b[0m b_j \u001b[39m=\u001b[39m (ag__\u001b[39m.\u001b[39mld(Tz) \u001b[39m-\u001b[39m ag__\u001b[39m.\u001b[39mld(\u001b[39mself\u001b[39m)\u001b[39m.\u001b[39mv_min) \u001b[39m/\u001b[39m ag__\u001b[39m.\u001b[39mld(\u001b[39mself\u001b[39m)\u001b[39m.\u001b[39mdelta_z\n",
      "\u001b[1;31mValueError\u001b[0m: in user code:\n\n    File \"c:\\Users\\cleme\\Desktop\\Rainbow-RL-Agent\\agent.py\", line 246, in _distributional_train_step  *\n        Tz = rewards[..., tf.newaxis] * tf.ones(shape=(self.batch_size, self.nb_atoms)) + tf.cast(dones[..., tf.newaxis], dtype = tf.float32) * (self.gamma ** self.multi_steps) * self.zs * tf.ones(shape=(self.batch_size,self.nb_atoms))\n\n    ValueError: Dimensions must be equal, but are 128 and 64 for '{{node mul}} = Mul[T=DT_FLOAT](strided_slice, ones)' with input shapes: [128,1], [64,51].\n"
     ]
    }
   ],
   "source": [
    "for _ in range(400):\n",
    "    obs, info = env.reset()\n",
    "    done, truncated = False, False\n",
    "    while not done and not truncated:\n",
    "        action = rainbow.e_greedy_pick_action_or_random(obs)\n",
    "        next_obs, reward, done, truncated, info = env.step(action)\n",
    "        rainbow.store_replay(obs, action, reward, next_obs, done, truncated)\n",
    "        rainbow.train()\n",
    "        obs = next_obs"
   ]
  },
  {
   "cell_type": "code",
   "execution_count": null,
   "metadata": {},
   "outputs": [],
   "source": []
  },
  {
   "attachments": {},
   "cell_type": "markdown",
   "metadata": {},
   "source": [
    "# Check Atoms Distribution"
   ]
  },
  {
   "cell_type": "code",
   "execution_count": null,
   "metadata": {},
   "outputs": [],
   "source": [
    "batch_indexes, states, actions, rewards, states_prime, dones, importance_weights = rainbow.replay_memory.sample(\n",
    "    1024,\n",
    "    rainbow.prioritized_replay_beta_function(rainbow.episode_count, rainbow.steps)\n",
    ")\n",
    "results = rainbow.model(states)\n",
    "\n",
    "action_colors=[\"blue\", \"orange\",\"purple\",\"red\"]\n",
    "fig, axes = plt.subplots(nrows = 2, ncols = 2, figsize=(16,9))\n",
    "for action in range(4):\n",
    "    for i in range(256):\n",
    "        axes[action%2, action//2%2].plot(rainbow.zs, results[i, action, :], color = action_colors[action], alpha = 0.2)"
   ]
  }
 ],
 "metadata": {
  "kernelspec": {
   "display_name": "base",
   "language": "python",
   "name": "python3"
  },
  "language_info": {
   "codemirror_mode": {
    "name": "ipython",
    "version": 3
   },
   "file_extension": ".py",
   "mimetype": "text/x-python",
   "name": "python",
   "nbconvert_exporter": "python",
   "pygments_lexer": "ipython3",
   "version": "3.9.15"
  },
  "orig_nbformat": 4,
  "vscode": {
   "interpreter": {
    "hash": "dbba53b6cb10acaf2f1df960d743193e7f0a62eeb980546e46655a1769dc5a26"
   }
  }
 },
 "nbformat": 4,
 "nbformat_minor": 2
}
